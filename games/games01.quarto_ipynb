{
  "cells": [
    {
      "cell_type": "markdown",
      "metadata": {},
      "source": [
        "---\n",
        "title: Parametric distributions\n",
        "format: live-dashboard\n",
        "---\n",
        "\n",
        "\n",
        "## Row\n",
        "\n",
        "\n",
        "```{webr}\n",
        "#| include: false\n",
        "library(tidyverse)\n",
        "```\n",
        "\n",
        "\n",
        "\n",
        "\n",
        "### Column\n",
        "\n",
        "::: {.card height=\"100%\" title=\"Binomial distribution\"}\n",
        "\n",
        "\n",
        "```{ojs}\n",
        "//| echo: false\n",
        "viewof n = Inputs.number([1, Infinity], {step: 1, label: \"n\", value: 10})\n",
        "viewof p = Inputs.range([0, 1], {step: 0.05, label: \"p\", value: 0.5})\n",
        "```\n",
        "\n",
        "```{webr}\n",
        "#| echo: false\n",
        "#| autorun: true\n",
        "data.frame(x = 0:n, p = dbinom(0:n, n, p)) |> \n",
        "  ggplot(aes(x, p)) +\n",
        "  geom_col() +\n",
        "  labs(x = \"x\", y = \"P(X = x)\")\n",
        "```\n",
        "\n",
        "\n",
        "\n",
        ":::"
      ],
      "id": "85726a62"
    }
  ],
  "metadata": {
    "kernelspec": {
      "display_name": "Python 3",
      "language": "python",
      "name": "python3"
    }
  },
  "nbformat": 4,
  "nbformat_minor": 5
}